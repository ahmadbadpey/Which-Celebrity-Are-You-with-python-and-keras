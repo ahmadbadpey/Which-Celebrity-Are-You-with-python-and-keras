{
 "cells": [
  {
   "cell_type": "code",
   "execution_count": 1,
   "id": "4c758a5d",
   "metadata": {
    "collapsed": true
   },
   "outputs": [
    {
     "name": "stdout",
     "output_type": "stream",
     "text": [
      "Requirement already satisfied: keras_vggface in c:\\users\\ahmad\\appdata\\local\\programs\\python\\python310\\lib\\site-packages (0.5)\n",
      "Requirement already satisfied: scipy>=0.14 in c:\\users\\ahmad\\appdata\\local\\programs\\python\\python310\\lib\\site-packages (from keras_vggface) (1.9.1)\n",
      "Requirement already satisfied: pyyaml in c:\\users\\ahmad\\appdata\\local\\programs\\python\\python310\\lib\\site-packages (from keras_vggface) (6.0)\n",
      "Requirement already satisfied: six>=1.9.0 in c:\\users\\ahmad\\appdata\\local\\programs\\python\\python310\\lib\\site-packages (from keras_vggface) (1.16.0)\n",
      "Requirement already satisfied: h5py in c:\\users\\ahmad\\appdata\\local\\programs\\python\\python310\\lib\\site-packages (from keras_vggface) (3.7.0)\n",
      "Requirement already satisfied: tensorflow in c:\\users\\ahmad\\appdata\\local\\programs\\python\\python310\\lib\\site-packages (from keras_vggface) (2.11.0)\n",
      "Requirement already satisfied: keras in c:\\users\\ahmad\\appdata\\local\\programs\\python\\python310\\lib\\site-packages (from keras_vggface) (2.11.0)\n",
      "Requirement already satisfied: pillow in c:\\users\\ahmad\\appdata\\local\\programs\\python\\python310\\lib\\site-packages (from keras_vggface) (9.2.0)\n",
      "Requirement already satisfied: numpy>=1.9.1 in c:\\users\\ahmad\\appdata\\local\\programs\\python\\python310\\lib\\site-packages (from keras_vggface) (1.23.3)\n",
      "Requirement already satisfied: tensorflow-intel==2.11.0 in c:\\users\\ahmad\\appdata\\local\\programs\\python\\python310\\lib\\site-packages (from tensorflow->keras_vggface) (2.11.0)\n",
      "Requirement already satisfied: grpcio<2.0,>=1.24.3 in c:\\users\\ahmad\\appdata\\local\\programs\\python\\python310\\lib\\site-packages (from tensorflow-intel==2.11.0->tensorflow->keras_vggface) (1.51.1)\n",
      "Requirement already satisfied: protobuf<3.20,>=3.9.2 in c:\\users\\ahmad\\appdata\\local\\programs\\python\\python310\\lib\\site-packages (from tensorflow-intel==2.11.0->tensorflow->keras_vggface) (3.19.6)\n",
      "Requirement already satisfied: typing-extensions>=3.6.6 in c:\\users\\ahmad\\appdata\\local\\programs\\python\\python310\\lib\\site-packages (from tensorflow-intel==2.11.0->tensorflow->keras_vggface) (4.4.0)\n",
      "Requirement already satisfied: tensorboard<2.12,>=2.11 in c:\\users\\ahmad\\appdata\\local\\programs\\python\\python310\\lib\\site-packages (from tensorflow-intel==2.11.0->tensorflow->keras_vggface) (2.11.0)\n",
      "Requirement already satisfied: opt-einsum>=2.3.2 in c:\\users\\ahmad\\appdata\\local\\programs\\python\\python310\\lib\\site-packages (from tensorflow-intel==2.11.0->tensorflow->keras_vggface) (3.3.0)\n",
      "Requirement already satisfied: google-pasta>=0.1.1 in c:\\users\\ahmad\\appdata\\local\\programs\\python\\python310\\lib\\site-packages (from tensorflow-intel==2.11.0->tensorflow->keras_vggface) (0.2.0)\n",
      "Requirement already satisfied: astunparse>=1.6.0 in c:\\users\\ahmad\\appdata\\local\\programs\\python\\python310\\lib\\site-packages (from tensorflow-intel==2.11.0->tensorflow->keras_vggface) (1.6.3)\n",
      "Requirement already satisfied: termcolor>=1.1.0 in c:\\users\\ahmad\\appdata\\local\\programs\\python\\python310\\lib\\site-packages (from tensorflow-intel==2.11.0->tensorflow->keras_vggface) (2.1.1)\n",
      "Requirement already satisfied: libclang>=13.0.0 in c:\\users\\ahmad\\appdata\\local\\programs\\python\\python310\\lib\\site-packages (from tensorflow-intel==2.11.0->tensorflow->keras_vggface) (14.0.6)\n",
      "Requirement already satisfied: setuptools in c:\\users\\ahmad\\appdata\\local\\programs\\python\\python310\\lib\\site-packages (from tensorflow-intel==2.11.0->tensorflow->keras_vggface) (66.0.0)\n",
      "Requirement already satisfied: wrapt>=1.11.0 in c:\\users\\ahmad\\appdata\\local\\programs\\python\\python310\\lib\\site-packages (from tensorflow-intel==2.11.0->tensorflow->keras_vggface) (1.14.1)\n",
      "Requirement already satisfied: absl-py>=1.0.0 in c:\\users\\ahmad\\appdata\\local\\programs\\python\\python310\\lib\\site-packages (from tensorflow-intel==2.11.0->tensorflow->keras_vggface) (1.3.0)\n",
      "Requirement already satisfied: flatbuffers>=2.0 in c:\\users\\ahmad\\appdata\\local\\programs\\python\\python310\\lib\\site-packages (from tensorflow-intel==2.11.0->tensorflow->keras_vggface) (22.12.6)\n",
      "Requirement already satisfied: gast<=0.4.0,>=0.2.1 in c:\\users\\ahmad\\appdata\\local\\programs\\python\\python310\\lib\\site-packages (from tensorflow-intel==2.11.0->tensorflow->keras_vggface) (0.4.0)\n",
      "Requirement already satisfied: packaging in c:\\users\\ahmad\\appdata\\local\\programs\\python\\python310\\lib\\site-packages (from tensorflow-intel==2.11.0->tensorflow->keras_vggface) (21.3)\n",
      "Requirement already satisfied: tensorflow-io-gcs-filesystem>=0.23.1 in c:\\users\\ahmad\\appdata\\local\\programs\\python\\python310\\lib\\site-packages (from tensorflow-intel==2.11.0->tensorflow->keras_vggface) (0.28.0)\n",
      "Requirement already satisfied: tensorflow-estimator<2.12,>=2.11.0 in c:\\users\\ahmad\\appdata\\local\\programs\\python\\python310\\lib\\site-packages (from tensorflow-intel==2.11.0->tensorflow->keras_vggface) (2.11.0)\n",
      "Requirement already satisfied: wheel<1.0,>=0.23.0 in c:\\users\\ahmad\\appdata\\local\\programs\\python\\python310\\lib\\site-packages (from astunparse>=1.6.0->tensorflow-intel==2.11.0->tensorflow->keras_vggface) (0.38.4)\n",
      "Requirement already satisfied: tensorboard-plugin-wit>=1.6.0 in c:\\users\\ahmad\\appdata\\local\\programs\\python\\python310\\lib\\site-packages (from tensorboard<2.12,>=2.11->tensorflow-intel==2.11.0->tensorflow->keras_vggface) (1.8.1)\n",
      "Requirement already satisfied: google-auth-oauthlib<0.5,>=0.4.1 in c:\\users\\ahmad\\appdata\\local\\programs\\python\\python310\\lib\\site-packages (from tensorboard<2.12,>=2.11->tensorflow-intel==2.11.0->tensorflow->keras_vggface) (0.4.6)\n",
      "Requirement already satisfied: markdown>=2.6.8 in c:\\users\\ahmad\\appdata\\local\\programs\\python\\python310\\lib\\site-packages (from tensorboard<2.12,>=2.11->tensorflow-intel==2.11.0->tensorflow->keras_vggface) (3.4.1)\n",
      "Requirement already satisfied: requests<3,>=2.21.0 in c:\\users\\ahmad\\appdata\\local\\programs\\python\\python310\\lib\\site-packages (from tensorboard<2.12,>=2.11->tensorflow-intel==2.11.0->tensorflow->keras_vggface) (2.28.1)\n",
      "Requirement already satisfied: google-auth<3,>=1.6.3 in c:\\users\\ahmad\\appdata\\local\\programs\\python\\python310\\lib\\site-packages (from tensorboard<2.12,>=2.11->tensorflow-intel==2.11.0->tensorflow->keras_vggface) (2.15.0)\n",
      "Requirement already satisfied: tensorboard-data-server<0.7.0,>=0.6.0 in c:\\users\\ahmad\\appdata\\local\\programs\\python\\python310\\lib\\site-packages (from tensorboard<2.12,>=2.11->tensorflow-intel==2.11.0->tensorflow->keras_vggface) (0.6.1)\n",
      "Requirement already satisfied: werkzeug>=1.0.1 in c:\\users\\ahmad\\appdata\\local\\programs\\python\\python310\\lib\\site-packages (from tensorboard<2.12,>=2.11->tensorflow-intel==2.11.0->tensorflow->keras_vggface) (2.2.2)\n",
      "Requirement already satisfied: pyparsing!=3.0.5,>=2.0.2 in c:\\users\\ahmad\\appdata\\local\\programs\\python\\python310\\lib\\site-packages (from packaging->tensorflow-intel==2.11.0->tensorflow->keras_vggface) (3.0.9)\n",
      "Requirement already satisfied: pyasn1-modules>=0.2.1 in c:\\users\\ahmad\\appdata\\local\\programs\\python\\python310\\lib\\site-packages (from google-auth<3,>=1.6.3->tensorboard<2.12,>=2.11->tensorflow-intel==2.11.0->tensorflow->keras_vggface) (0.2.8)\n",
      "Requirement already satisfied: rsa<5,>=3.1.4 in c:\\users\\ahmad\\appdata\\local\\programs\\python\\python310\\lib\\site-packages (from google-auth<3,>=1.6.3->tensorboard<2.12,>=2.11->tensorflow-intel==2.11.0->tensorflow->keras_vggface) (4.9)\n",
      "Requirement already satisfied: cachetools<6.0,>=2.0.0 in c:\\users\\ahmad\\appdata\\local\\programs\\python\\python310\\lib\\site-packages (from google-auth<3,>=1.6.3->tensorboard<2.12,>=2.11->tensorflow-intel==2.11.0->tensorflow->keras_vggface) (5.2.0)\n",
      "Requirement already satisfied: requests-oauthlib>=0.7.0 in c:\\users\\ahmad\\appdata\\local\\programs\\python\\python310\\lib\\site-packages (from google-auth-oauthlib<0.5,>=0.4.1->tensorboard<2.12,>=2.11->tensorflow-intel==2.11.0->tensorflow->keras_vggface) (1.3.1)\n",
      "Requirement already satisfied: idna<4,>=2.5 in c:\\users\\ahmad\\appdata\\local\\programs\\python\\python310\\lib\\site-packages (from requests<3,>=2.21.0->tensorboard<2.12,>=2.11->tensorflow-intel==2.11.0->tensorflow->keras_vggface) (3.4)\n",
      "Requirement already satisfied: certifi>=2017.4.17 in c:\\users\\ahmad\\appdata\\local\\programs\\python\\python310\\lib\\site-packages (from requests<3,>=2.21.0->tensorboard<2.12,>=2.11->tensorflow-intel==2.11.0->tensorflow->keras_vggface) (2022.12.7)\n",
      "Requirement already satisfied: urllib3<1.27,>=1.21.1 in c:\\users\\ahmad\\appdata\\local\\programs\\python\\python310\\lib\\site-packages (from requests<3,>=2.21.0->tensorboard<2.12,>=2.11->tensorflow-intel==2.11.0->tensorflow->keras_vggface) (1.26.13)\n",
      "Requirement already satisfied: charset-normalizer<3,>=2 in c:\\users\\ahmad\\appdata\\local\\programs\\python\\python310\\lib\\site-packages (from requests<3,>=2.21.0->tensorboard<2.12,>=2.11->tensorflow-intel==2.11.0->tensorflow->keras_vggface) (2.1.1)\n",
      "Requirement already satisfied: MarkupSafe>=2.1.1 in c:\\users\\ahmad\\appdata\\local\\programs\\python\\python310\\lib\\site-packages (from werkzeug>=1.0.1->tensorboard<2.12,>=2.11->tensorflow-intel==2.11.0->tensorflow->keras_vggface) (2.1.1)\n",
      "Requirement already satisfied: pyasn1<0.5.0,>=0.4.6 in c:\\users\\ahmad\\appdata\\local\\programs\\python\\python310\\lib\\site-packages (from pyasn1-modules>=0.2.1->google-auth<3,>=1.6.3->tensorboard<2.12,>=2.11->tensorflow-intel==2.11.0->tensorflow->keras_vggface) (0.4.8)\n",
      "Requirement already satisfied: oauthlib>=3.0.0 in c:\\users\\ahmad\\appdata\\local\\programs\\python\\python310\\lib\\site-packages (from requests-oauthlib>=0.7.0->google-auth-oauthlib<0.5,>=0.4.1->tensorboard<2.12,>=2.11->tensorflow-intel==2.11.0->tensorflow->keras_vggface) (3.2.2)\n"
     ]
    },
    {
     "name": "stdout",
     "output_type": "stream",
     "text": [
      "Requirement already satisfied: keras_applications in c:\\users\\ahmad\\appdata\\local\\programs\\python\\python310\\lib\\site-packages (1.0.8)\n",
      "Requirement already satisfied: h5py in c:\\users\\ahmad\\appdata\\local\\programs\\python\\python310\\lib\\site-packages (from keras_applications) (3.7.0)\n",
      "Requirement already satisfied: numpy>=1.9.1 in c:\\users\\ahmad\\appdata\\local\\programs\\python\\python310\\lib\\site-packages (from keras_applications) (1.23.3)\n"
     ]
    }
   ],
   "source": [
    "!pip install keras_vggface\n",
    "!pip install keras_applications"
   ]
  },
  {
   "cell_type": "code",
   "execution_count": 27,
   "id": "26a6c8ea",
   "metadata": {},
   "outputs": [],
   "source": [
    "from keras_vggface import VGGFace\n",
    "from keras_vggface import utils\n",
    "from keras_vggface.utils import preprocess_input\n",
    "from mtcnn import MTCNN\n",
    "from ipyfilechooser import FileChooser\n",
    "import cv2 as cv\n",
    "import numpy as np\n",
    "from numpy import expand_dims"
   ]
  },
  {
   "cell_type": "code",
   "execution_count": 3,
   "id": "31ed1325",
   "metadata": {
    "collapsed": true
   },
   "outputs": [
    {
     "name": "stdout",
     "output_type": "stream",
     "text": [
      "Name: keras-vggfaceNote: you may need to restart the kernel to use updated packages.\n",
      "\n",
      "Version: 0.5\n",
      "Summary: VGGFace implementation with Keras framework\n",
      "Home-page: https://github.com/rcmalli/keras-vggface\n",
      "Author: Refik Can MALLI\n",
      "Author-email: mallir@itu.edu.tr\n",
      "License: MIT\n",
      "Location: c:\\users\\ahmad\\appdata\\local\\programs\\python\\python310\\lib\\site-packages\n",
      "Requires: h5py, keras, numpy, pillow, pyyaml, scipy, six, tensorflow\n",
      "Required-by: \n"
     ]
    }
   ],
   "source": [
    "pip show keras-vggface"
   ]
  },
  {
   "cell_type": "code",
   "execution_count": 4,
   "id": "c377189b",
   "metadata": {},
   "outputs": [],
   "source": [
    "vggface = VGGFace(model='senet50')\n",
    "detector_obj = MTCNN()"
   ]
  },
  {
   "cell_type": "markdown",
   "id": "d74e8e6b",
   "metadata": {},
   "source": [
    "### Upload Image "
   ]
  },
  {
   "cell_type": "code",
   "execution_count": 5,
   "id": "1a7900c3",
   "metadata": {
    "scrolled": true
   },
   "outputs": [
    {
     "data": {
      "application/vnd.jupyter.widget-view+json": {
       "model_id": "674af0b1fb5d41e1b28e0efe5a8dd860",
       "version_major": 2,
       "version_minor": 0
      },
      "text/plain": [
       "FileChooser(path='C:\\Users\\Ahmad\\Desktop\\Machine_Learning_Books\\projects\\FaceRecognitionVGG', filename='', tit…"
      ]
     },
     "metadata": {},
     "output_type": "display_data"
    }
   ],
   "source": [
    "fc = FileChooser()\n",
    "display(fc)"
   ]
  },
  {
   "cell_type": "code",
   "execution_count": 23,
   "id": "3d9be8c6",
   "metadata": {
    "scrolled": true
   },
   "outputs": [
    {
     "name": "stdout",
     "output_type": "stream",
     "text": [
      "C:\\Users\\Ahmad\\Desktop\\Machine_Learning_Books\\projects\\FaceRecognitionVGG\\ahmad.jpg\n"
     ]
    }
   ],
   "source": [
    "print(fc.selected)"
   ]
  },
  {
   "cell_type": "markdown",
   "id": "b4e183ba",
   "metadata": {},
   "source": [
    "### Manipulalting Image"
   ]
  },
  {
   "cell_type": "code",
   "execution_count": 39,
   "id": "327fcd17",
   "metadata": {},
   "outputs": [
    {
     "name": "stdout",
     "output_type": "stream",
     "text": [
      "1/1 [==============================] - 0s 62ms/step\n",
      "1/1 [==============================] - 0s 44ms/step\n",
      "1/1 [==============================] - 0s 37ms/step\n",
      "1/1 [==============================] - 0s 31ms/step\n",
      "1/1 [==============================] - 0s 29ms/step\n",
      "1/1 [==============================] - 0s 29ms/step\n",
      "1/1 [==============================] - 0s 28ms/step\n",
      "1/1 [==============================] - 0s 32ms/step\n",
      "1/1 [==============================] - 0s 33ms/step\n",
      "1/1 [==============================] - 0s 27ms/step\n",
      "1/1 [==============================] - 0s 30ms/step\n",
      "5/5 [==============================] - 0s 8ms/step\n",
      "1/1 [==============================] - 0s 35ms/step\n"
     ]
    },
    {
     "data": {
      "text/plain": [
       "array([[[[ -91.377655, -103.76505 , -130.97356 ],\n",
       "         [ -91.38158 , -103.768974, -130.97748 ],\n",
       "         [ -91.38158 , -103.768974, -130.97748 ],\n",
       "         ...,\n",
       "         [ -90.67177 , -103.04348 , -130.29512 ],\n",
       "         [ -90.67177 , -103.04348 , -130.2912  ],\n",
       "         [ -90.66785 , -103.04348 , -130.28728 ]],\n",
       "\n",
       "        [[ -91.39726 , -103.78466 , -130.99316 ],\n",
       "         [ -91.39334 , -103.78074 , -130.98924 ],\n",
       "         [ -91.38942 , -103.77682 , -130.98532 ],\n",
       "         ...,\n",
       "         [ -90.66785 , -103.03956 , -130.28728 ],\n",
       "         [ -90.663925, -103.03956 , -130.28728 ],\n",
       "         [ -90.663925, -103.03956 , -130.28336 ]],\n",
       "\n",
       "        [[ -91.39726 , -103.78466 , -130.99316 ],\n",
       "         [ -91.39726 , -103.78466 , -130.99316 ],\n",
       "         [ -91.39726 , -103.78466 , -130.99316 ],\n",
       "         ...,\n",
       "         [ -90.66    , -103.03956 , -130.28728 ],\n",
       "         [ -90.663925, -103.03956 , -130.28728 ],\n",
       "         [ -90.66785 , -103.04348 , -130.28728 ]],\n",
       "\n",
       "        ...,\n",
       "\n",
       "        [[ -90.62471 , -103.00819 , -130.2559  ],\n",
       "         [ -90.62079 , -103.00819 , -130.25198 ],\n",
       "         [ -90.612946, -103.00819 , -130.24806 ],\n",
       "         ...,\n",
       "         [ -91.22863 , -103.61603 , -130.80493 ],\n",
       "         [ -91.23647 , -103.62779 , -130.8167  ],\n",
       "         [ -91.23647 , -103.63564 , -130.82846 ]],\n",
       "\n",
       "        [[ -90.62079 , -103.004265, -130.25198 ],\n",
       "         [ -90.62471 , -103.01211 , -130.2559  ],\n",
       "         [ -90.62863 , -103.02387 , -130.26375 ],\n",
       "         ...,\n",
       "         [ -91.37373 , -103.745445, -130.93434 ],\n",
       "         [ -91.38158 , -103.76505 , -130.95395 ],\n",
       "         [ -91.38942 , -103.77682 , -130.96964 ]],\n",
       "\n",
       "        [[ -90.612946, -103.00819 , -130.24806 ],\n",
       "         [ -90.609024, -103.004265, -130.24414 ],\n",
       "         [ -90.60118 , -102.99642 , -130.2363  ],\n",
       "         ...,\n",
       "         [ -91.41295 , -103.77682 , -130.96571 ],\n",
       "         [ -91.42471 , -103.796425, -130.98924 ],\n",
       "         [ -91.432556, -103.80819 , -131.001   ]]]], dtype=float32)"
      ]
     },
     "execution_count": 39,
     "metadata": {},
     "output_type": "execute_result"
    }
   ],
   "source": [
    "def extract_face(address):\n",
    "    img = cv.imread(address)\n",
    "\n",
    "    rgb_img = cv.cvtColor(img , cv.COLOR_BGR2RGB)\n",
    "\n",
    "    face = detector_obj.detect_faces(rgb_img)[0]\n",
    "    x , y ,w, h = face['box']\n",
    "\n",
    "    actual_face = rgb_img[y:y+h , x:x+w] # This crop only section of image that contain person Face\n",
    "    actual_face = cv.resize(actual_face , (224,224))\n",
    "    actual_face = actual_face/255.0\n",
    "\n",
    "    return np.asarray(actual_face)\n",
    "\n",
    "face = extract_face(fc.selected)\n",
    "face = face.astype('float32')\n",
    "samples = expand_dims(face, axis=0)\n",
    "samples = preprocess_input(samples, version=2)\n",
    "\n",
    "samples"
   ]
  },
  {
   "cell_type": "markdown",
   "id": "7f1e738e",
   "metadata": {},
   "source": [
    "### Face Identification With VGGFace2"
   ]
  },
  {
   "cell_type": "code",
   "execution_count": 40,
   "id": "bb6d6a57",
   "metadata": {},
   "outputs": [
    {
     "name": "stdout",
     "output_type": "stream",
     "text": [
      "Inputs: [<KerasTensor: shape=(None, 224, 224, 3) dtype=float32 (created by layer 'input_1')>]\n",
      "Outputs: [<KerasTensor: shape=(None, 8631) dtype=float32 (created by layer 'classifier')>]\n"
     ]
    }
   ],
   "source": [
    "# summarize input and output shape\n",
    "print('Inputs: %s' % vggface.inputs)\n",
    "print('Outputs: %s' % vggface.outputs)"
   ]
  },
  {
   "cell_type": "markdown",
   "id": "1928a9dc",
   "metadata": {},
   "source": [
    "#### Predicting"
   ]
  },
  {
   "cell_type": "code",
   "execution_count": 41,
   "id": "1b895f8a",
   "metadata": {},
   "outputs": [
    {
     "name": "stdout",
     "output_type": "stream",
     "text": [
      "1/1 [==============================] - 0s 193ms/step\n",
      "[[4.6287125e-05 1.2256233e-04 8.3936560e-05 ... 1.2859362e-04\n",
      "  1.7007625e-04 1.0346011e-04]]\n",
      "[[[\"b' Phylicia_Rash\\\\xc4\\\\x81d'\", 0.00058736745], [\"b' Roger_Donaldson'\", 0.0005233481], [\"b' Cris_Vianna'\", 0.00046721328], [\"b' Richa_Soni'\", 0.00046343866], [\"b' Shabana_Azmi'\", 0.00044361933]]]\n",
      "b' Phylicia_Rash\\xc4\\x81d': 0.059%\n",
      "b' Roger_Donaldson': 0.052%\n",
      "b' Cris_Vianna': 0.047%\n",
      "b' Richa_Soni': 0.046%\n",
      "b' Shabana_Azmi': 0.044%\n"
     ]
    }
   ],
   "source": [
    "predict = vggface.predict(samples)\n",
    "print(predict)\n",
    "\n",
    "output = utils.decode_predictions(predict)\n",
    "print(output)\n",
    "\n",
    "for result in output[0]:\n",
    "    print('%s: %.3f%%' % (result[0], result[1]*100))"
   ]
  }
 ],
 "metadata": {
  "kernelspec": {
   "display_name": "Python 3 (ipykernel)",
   "language": "python",
   "name": "python3"
  },
  "language_info": {
   "codemirror_mode": {
    "name": "ipython",
    "version": 3
   },
   "file_extension": ".py",
   "mimetype": "text/x-python",
   "name": "python",
   "nbconvert_exporter": "python",
   "pygments_lexer": "ipython3",
   "version": "3.10.7"
  }
 },
 "nbformat": 4,
 "nbformat_minor": 5
}
